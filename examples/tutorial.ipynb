{
  "nbformat": 4,
  "nbformat_minor": 0,
  "metadata": {
    "colab": {
      "name": "YOLO11 Tutorial",
      "provenance": []
    },
    "kernelspec": {
      "name": "python3",
      "display_name": "Python 3"
    },
    "accelerator": "GPU"
  },
  "cells": [
    {
      "cell_type": "markdown",
      "metadata": {
        "id": "t6MPjfT5NrKQ"
      },
      "source": [
        "<div align=\"center\">\n",
        "  <a href=\"https://ultralytics.com/yolo\" target=\"_blank\">\n",
        "    <img width=\"1024\" src=\"https://raw.githubusercontent.com/ultralytics/assets/main/yolov8/banner-yolov8.png\">\n",
        "  </a>\n",
        "\n",
        "  [中文](https://docs.ultralytics.com/zh/) | [한국어](https://docs.ultralytics.com/ko/) | [日本語](https://docs.ultralytics.com/ja/) | [Русский](https://docs.ultralytics.com/ru/) | [Deutsch](https://docs.ultralytics.com/de/) | [Français](https://docs.ultralytics.com/fr/) | [Español](https://docs.ultralytics.com/es/) | [Português](https://docs.ultralytics.com/pt/) | [Türkçe](https://docs.ultralytics.com/tr/) | [Tiếng Việt](https://docs.ultralytics.com/vi/) | [العربية](https://docs.ultralytics.com/ar/)\n",
        "\n",
        "  <a href=\"https://github.com/ultralytics/ultralytics/actions/workflows/ci.yml\"><img src=\"https://github.com/ultralytics/ultralytics/actions/workflows/ci.yml/badge.svg\" alt=\"Ultralytics CI\"></a>\n",
        "  <a href=\"https://console.paperspace.com/github/ultralytics/ultralytics\"><img src=\"https://assets.paperspace.io/img/gradient-badge.svg\" alt=\"Run on Gradient\"/></a>\n",
        "  <a href=\"https://colab.research.google.com/github/ultralytics/ultralytics/blob/main/examples/tutorial.ipynb\"><img src=\"https://colab.research.google.com/assets/colab-badge.svg\" alt=\"Open In Colab\"></a>\n",
        "  <a href=\"https://www.kaggle.com/models/ultralytics/yolo11\"><img src=\"https://kaggle.com/static/images/open-in-kaggle.svg\" alt=\"Open In Kaggle\"></a>\n",
        "\n",
        "  <a href=\"https://ultralytics.com/discord\"><img alt=\"Discord\" src=\"https://img.shields.io/discord/1089800235347353640?logo=discord&logoColor=white&label=Discord&color=blue\"></a>\n",
        "  <a href=\"https://community.ultralytics.com\"><img alt=\"Ultralytics Forums\" src=\"https://img.shields.io/discourse/users?server=https%3A%2F%2Fcommunity.ultralytics.com&logo=discourse&label=Forums&color=blue\"></a>\n",
        "  <a href=\"https://reddit.com/r/ultralytics\"><img alt=\"Ultralytics Reddit\" src=\"https://img.shields.io/reddit/subreddit-subscribers/ultralytics?style=flat&logo=reddit&logoColor=white&label=Reddit&color=blue\"></a>\n",
        "</div>\n",
        "\n",
        "This **Ultralytics Colab Notebook** is the easiest way to get started with [YOLO models](https://www.ultralytics.com/yolo)—no installation needed. Built by [Ultralytics](https://www.ultralytics.com/), the creators of YOLO, this notebook walks you through running **state-of-the-art** models directly in your browser.\n",
        "\n",
        "Ultralytics models are constantly updated for performance and flexibility. They're **fast**, **accurate**, and **easy to use**, and they excel at [object detection](https://docs.ultralytics.com/tasks/detect/), [tracking](https://docs.ultralytics.com/modes/track/), [instance segmentation](https://docs.ultralytics.com/tasks/segment/), [image classification](https://docs.ultralytics.com/tasks/classify/), and [pose estimation](https://docs.ultralytics.com/tasks/pose/).\n",
        "\n",
        "Find detailed documentation in the [Ultralytics Docs](https://docs.ultralytics.com/). Get support via [GitHub Issues](https://github.com/ultralytics/ultralytics/issues/new/choose). Join discussions on [Discord](https://discord.com/invite/ultralytics), [Reddit](https://www.reddit.com/r/ultralytics/), and the [Ultralytics Community Forums](https://community.ultralytics.com/)!\n",
        "\n",
        "Request an Enterprise License for commercial use at [Ultralytics Licensing](https://www.ultralytics.com/license).\n",
        "\n",
        "<br>\n",
        "<div>\n",
        "  <a href=\"https://www.youtube.com/watch?v=ZN3nRZT7b24\" target=\"_blank\">\n",
        "    <img src=\"https://img.youtube.com/vi/ZN3nRZT7b24/maxresdefault.jpg\" alt=\"Ultralytics Video\" width=\"640\" style=\"border-radius: 10px; box-shadow: 0 4px 8px rgba(0, 0, 0, 0.2);\">\n",
        "  </a>\n",
        "\n",
        "  <p style=\"font-size: 16px; font-family: Arial, sans-serif; color: #555;\">\n",
        "    <strong>Watch: </strong> How to Train\n",
        "    <a href=\"https://github.com/ultralytics/ultralytics\">Ultralytics</a>\n",
        "    <a href=\"https://docs.ultralytics.com/models/yolo11/\">YOLO11</a> Model on Custom Dataset using Google Colab Notebook 🚀\n",
        "  </p>\n",
        "</div>"
      ]
    },
    {
      "cell_type": "markdown",
      "metadata": {
        "id": "7mGmQbAO5pQb"
      },
      "source": [
        "# Setup\n",
        "\n",
        "pip install `ultralytics` and [dependencies](https://github.com/ultralytics/ultralytics/blob/main/pyproject.toml) and check software and hardware.\n",
        "\n",
        "[![PyPI - Version](https://img.shields.io/pypi/v/ultralytics?logo=pypi&logoColor=white)](https://pypi.org/project/ultralytics/) [![Downloads](https://static.pepy.tech/badge/ultralytics)](https://clickpy.clickhouse.com/dashboard/ultralytics) [![PyPI - Python Version](https://img.shields.io/pypi/pyversions/ultralytics?logo=python&logoColor=gold)](https://pypi.org/project/ultralytics/)"
      ]
    },
    {
      "cell_type": "code",
      "metadata": {
        "id": "wbvMlHd_QwMG",
        "colab": {
          "base_uri": "https://localhost:8080/"
        },
        "outputId": "ddaf97e9-8c7b-434f-fb30-2021d228f38d"
      },
      "source": [
        "!uv pip install ultralytics\n",
        "import ultralytics\n",
        "ultralytics.checks()"
      ],
      "execution_count": 6,
      "outputs": [
        {
          "output_type": "stream",
          "name": "stdout",
          "text": [
            "Ultralytics 8.3.186 🚀 Python-3.12.11 torch-2.8.0+cu126 CUDA:0 (Tesla T4, 15095MiB)\n",
            "Setup complete ✅ (2 CPUs, 12.7 GB RAM, 39.2/112.6 GB disk)\n"
          ]
        }
      ]
    },
    {
      "cell_type": "markdown",
      "metadata": {
        "id": "4JnkELT0cIJg"
      },
      "source": [
        "# 1. Predict\n",
        "\n",
        "YOLO11 may be used directly in the Command Line Interface (CLI) with a `yolo` command for a variety of tasks and modes and accepts additional arguments, i.e. `imgsz=640`. See a full list of available `yolo` [arguments](https://docs.ultralytics.com/usage/cfg/) and other details in the [YOLO11 Predict Docs](https://docs.ultralytics.com/modes/train/).\n"
      ]
    },
    {
      "cell_type": "code",
      "metadata": {
        "id": "zR9ZbuQCH7FX",
        "colab": {
          "base_uri": "https://localhost:8080/"
        },
        "outputId": "7e7607f0-5007-492d-fb7d-a514c1aa3353"
      },
      "source": [
        "# Run inference on an image with YOLO11n\n",
        "!yolo predict model=yolo11n.pt source='https://ultralytics.com/images/zidane.jpg'"
      ],
      "execution_count": null,
      "outputs": [
        {
          "output_type": "stream",
          "name": "stdout",
          "text": [
            "\rDownloading https://github.com/ultralytics/assets/releases/download/v8.3.0/yolo11n.pt to 'yolo11n.pt':   0% 0.00/5.35M [00:00<?, ?B/s]\rDownloading https://github.com/ultralytics/assets/releases/download/v8.3.0/yolo11n.pt to 'yolo11n.pt': 100% 5.35M/5.35M [00:00<00:00, 60.4MB/s]\n",
            "Ultralytics 8.3.174 🚀 Python-3.11.13 torch-2.6.0+cu124 CUDA:0 (Tesla T4, 15095MiB)\n",
            "YOLO11n summary (fused): 100 layers, 2,616,248 parameters, 0 gradients, 6.5 GFLOPs\n",
            "\n",
            "Downloading https://ultralytics.com/images/zidane.jpg to 'zidane.jpg': 100% 49.2k/49.2k [00:00<00:00, 14.9MB/s]\n",
            "image 1/1 /content/zidane.jpg: 384x640 2 persons, 1 tie, 45.1ms\n",
            "Speed: 12.5ms preprocess, 45.1ms inference, 355.9ms postprocess per image at shape (1, 3, 384, 640)\n",
            "Results saved to \u001b[1mruns/detect/predict\u001b[0m\n",
            "💡 Learn more at https://docs.ultralytics.com/modes/predict\n"
          ]
        }
      ]
    },
    {
      "cell_type": "markdown",
      "metadata": {
        "id": "hkAzDWJ7cWTr"
      },
      "source": [
        "&nbsp;&nbsp;&nbsp;&nbsp;&nbsp;&nbsp;&nbsp;&nbsp;\n",
        "<img align=\"left\" src=\"https://user-images.githubusercontent.com/26833433/212889447-69e5bdf1-5800-4e29-835e-2ed2336dede2.jpg\" width=\"600\">"
      ]
    },
    {
      "cell_type": "markdown",
      "metadata": {
        "id": "0eq1SMWl6Sfn"
      },
      "source": [
        "# 2. Val\n",
        "Validate a model's accuracy on the [COCO](https://docs.ultralytics.com/datasets/detect/coco/) dataset's `val` or `test` splits. The latest YOLO11 [models](https://github.com/ultralytics/ultralytics#models) are downloaded automatically the first time they are used. See [YOLO11 Val Docs](https://docs.ultralytics.com/modes/val/) for more information."
      ]
    },
    {
      "cell_type": "code",
      "metadata": {
        "id": "WQPtK1QYVaD_"
      },
      "source": [
        "# Download COCO val\n",
        "import torch\n",
        "torch.hub.download_url_to_file('https://ultralytics.com/assets/coco2017val.zip', 'tmp.zip')  # download (780M - 5000 images)\n",
        "!unzip -q tmp.zip -d datasets && rm tmp.zip  # unzip"
      ],
      "execution_count": null,
      "outputs": []
    },
    {
      "cell_type": "code",
      "source": [
        "!pip install roboflow\n",
        "\n",
        "from roboflow import Roboflow\n",
        "rf = Roboflow(api_key=\"aFdE2bHLgRF5Me0U9xAC\")\n",
        "project = rf.workspace(\"suriyapractice\").project(\"boxing_punch_detection-weouj\")\n",
        "version = project.version(8)\n",
        "dataset = version.download(\"yolov8\")\n",
        ""
      ],
      "metadata": {
        "id": "CxrZaDjang5A",
        "outputId": "412f67f0-9c9f-4997-d341-ce3c518b9dd0",
        "colab": {
          "base_uri": "https://localhost:8080/"
        }
      },
      "execution_count": 7,
      "outputs": [
        {
          "output_type": "stream",
          "name": "stdout",
          "text": [
            "Requirement already satisfied: roboflow in /usr/local/lib/python3.12/dist-packages (1.2.6)\n",
            "Requirement already satisfied: certifi in /usr/local/lib/python3.12/dist-packages (from roboflow) (2025.8.3)\n",
            "Requirement already satisfied: idna==3.7 in /usr/local/lib/python3.12/dist-packages (from roboflow) (3.7)\n",
            "Requirement already satisfied: cycler in /usr/local/lib/python3.12/dist-packages (from roboflow) (0.12.1)\n",
            "Requirement already satisfied: kiwisolver>=1.3.1 in /usr/local/lib/python3.12/dist-packages (from roboflow) (1.4.9)\n",
            "Requirement already satisfied: matplotlib in /usr/local/lib/python3.12/dist-packages (from roboflow) (3.10.0)\n",
            "Requirement already satisfied: numpy>=1.18.5 in /usr/local/lib/python3.12/dist-packages (from roboflow) (2.0.2)\n",
            "Requirement already satisfied: opencv-python-headless==4.10.0.84 in /usr/local/lib/python3.12/dist-packages (from roboflow) (4.10.0.84)\n",
            "Requirement already satisfied: Pillow>=7.1.2 in /usr/local/lib/python3.12/dist-packages (from roboflow) (11.3.0)\n",
            "Requirement already satisfied: pi-heif<2 in /usr/local/lib/python3.12/dist-packages (from roboflow) (1.1.0)\n",
            "Requirement already satisfied: pillow-avif-plugin<2 in /usr/local/lib/python3.12/dist-packages (from roboflow) (1.5.2)\n",
            "Requirement already satisfied: python-dateutil in /usr/local/lib/python3.12/dist-packages (from roboflow) (2.9.0.post0)\n",
            "Requirement already satisfied: python-dotenv in /usr/local/lib/python3.12/dist-packages (from roboflow) (1.1.1)\n",
            "Requirement already satisfied: requests in /usr/local/lib/python3.12/dist-packages (from roboflow) (2.32.4)\n",
            "Requirement already satisfied: six in /usr/local/lib/python3.12/dist-packages (from roboflow) (1.17.0)\n",
            "Requirement already satisfied: urllib3>=1.26.6 in /usr/local/lib/python3.12/dist-packages (from roboflow) (2.5.0)\n",
            "Requirement already satisfied: tqdm>=4.41.0 in /usr/local/lib/python3.12/dist-packages (from roboflow) (4.67.1)\n",
            "Requirement already satisfied: PyYAML>=5.3.1 in /usr/local/lib/python3.12/dist-packages (from roboflow) (6.0.2)\n",
            "Requirement already satisfied: requests-toolbelt in /usr/local/lib/python3.12/dist-packages (from roboflow) (1.0.0)\n",
            "Requirement already satisfied: filetype in /usr/local/lib/python3.12/dist-packages (from roboflow) (1.2.0)\n",
            "Requirement already satisfied: contourpy>=1.0.1 in /usr/local/lib/python3.12/dist-packages (from matplotlib->roboflow) (1.3.3)\n",
            "Requirement already satisfied: fonttools>=4.22.0 in /usr/local/lib/python3.12/dist-packages (from matplotlib->roboflow) (4.59.1)\n",
            "Requirement already satisfied: packaging>=20.0 in /usr/local/lib/python3.12/dist-packages (from matplotlib->roboflow) (25.0)\n",
            "Requirement already satisfied: pyparsing>=2.3.1 in /usr/local/lib/python3.12/dist-packages (from matplotlib->roboflow) (3.2.3)\n",
            "Requirement already satisfied: charset_normalizer<4,>=2 in /usr/local/lib/python3.12/dist-packages (from requests->roboflow) (3.4.3)\n",
            "loading Roboflow workspace...\n",
            "loading Roboflow project...\n"
          ]
        },
        {
          "output_type": "stream",
          "name": "stderr",
          "text": [
            "Downloading Dataset Version Zip in Boxing_Punch_Detection-8 to yolov8:: 100%|██████████| 48034/48034 [00:02<00:00, 18435.63it/s]"
          ]
        },
        {
          "output_type": "stream",
          "name": "stdout",
          "text": [
            "\n"
          ]
        },
        {
          "output_type": "stream",
          "name": "stderr",
          "text": [
            "\n",
            "Extracting Dataset Version Zip to Boxing_Punch_Detection-8 in yolov8:: 100%|██████████| 1214/1214 [00:00<00:00, 6457.78it/s]\n"
          ]
        }
      ]
    },
    {
      "cell_type": "code",
      "metadata": {
        "id": "X58w8JLpMnjH"
      },
      "source": [
        "# Validate YOLO11n on COCO8 val\n",
        "!yolo val model=yolo11n.pt data=coco8.yaml"
      ],
      "execution_count": 5,
      "outputs": []
    },
    {
      "cell_type": "markdown",
      "metadata": {
        "id": "ZY2VXXXu74w5"
      },
      "source": [
        "# 3. Train\n",
        "\n",
        "<p align=\"\"><a href=\"https://ultralytics.com/hub\"><img width=\"1000\" src=\"https://github.com/ultralytics/assets/raw/main/yolov8/banner-integrations.png\"/></a></p>\n",
        "\n",
        "Train YOLO11 on [Detect](https://docs.ultralytics.com/tasks/detect/), [Segment](https://docs.ultralytics.com/tasks/segment/), [Classify](https://docs.ultralytics.com/tasks/classify/) and [Pose](https://docs.ultralytics.com/tasks/pose/) datasets. See [YOLO11 Train Docs](https://docs.ultralytics.com/modes/train/) for more information."
      ]
    },
    {
      "cell_type": "code",
      "source": [
        "#@title Select YOLO11 🚀 logger {run: 'auto'}\n",
        "logger = 'TensorBoard' #@param ['TensorBoard', 'Weights & Biases']\n",
        "\n",
        "if logger == 'TensorBoard':\n",
        "  !yolo settings tensorboard=True\n",
        "  %load_ext tensorboard\n",
        "  %tensorboard --logdir .\n",
        "elif logger == 'Weights & Biases':\n",
        "  !yolo settings wandb=True"
      ],
      "metadata": {
        "id": "ktegpM42AooT"
      },
      "execution_count": null,
      "outputs": []
    },
    {
      "cell_type": "code",
      "metadata": {
        "id": "1NcFxRcFdJ_O",
        "outputId": "d9b84da4-55cd-4561-9674-cdbefe8a5bfd",
        "colab": {
          "base_uri": "https://localhost:8080/"
        }
      },
      "source": [
        "# Train YOLO11n on COCO8 for 3 epochs\n",
        "!yolo train model=yolo11n-pose.pt data=/content/Boxing_Punch_Detection-8/data.yaml epochs=3 imgsz=640"
      ],
      "execution_count": 9,
      "outputs": [
        {
          "output_type": "stream",
          "name": "stdout",
          "text": [
            "\r\u001b[KDownloading https://github.com/ultralytics/assets/releases/download/v8.3.0/yolo11n-pose.pt to 'yolo11n-pose.pt': 100% ━━━━━━━━━━━━ 6.0/6.0MB 78.0MB/s 0.1s\r\u001b[KDownloading https://github.com/ultralytics/assets/releases/download/v8.3.0/yolo11n-pose.pt to 'yolo11n-pose.pt': 100% ━━━━━━━━━━━━ 6.0/6.0MB 77.9MB/s 0.1s\n",
            "Ultralytics 8.3.186 🚀 Python-3.12.11 torch-2.8.0+cu126 CUDA:0 (Tesla T4, 15095MiB)\n",
            "\u001b[34m\u001b[1mengine/trainer: \u001b[0magnostic_nms=False, amp=True, augment=False, auto_augment=randaugment, batch=16, bgr=0.0, box=7.5, cache=False, cfg=None, classes=None, close_mosaic=10, cls=0.5, conf=None, copy_paste=0.0, copy_paste_mode=flip, cos_lr=False, cutmix=0.0, data=/content/Boxing_Punch_Detection-8/data.yaml, degrees=0.0, deterministic=True, device=None, dfl=1.5, dnn=False, dropout=0.0, dynamic=False, embed=None, epochs=3, erasing=0.4, exist_ok=False, fliplr=0.5, flipud=0.0, format=torchscript, fraction=1.0, freeze=None, half=False, hsv_h=0.015, hsv_s=0.7, hsv_v=0.4, imgsz=640, int8=False, iou=0.7, keras=False, kobj=1.0, line_width=None, lr0=0.01, lrf=0.01, mask_ratio=4, max_det=300, mixup=0.0, mode=train, model=yolo11n-pose.pt, momentum=0.937, mosaic=1.0, multi_scale=False, name=train2, nbs=64, nms=False, opset=None, optimize=False, optimizer=auto, overlap_mask=True, patience=100, perspective=0.0, plots=True, pose=12.0, pretrained=True, profile=False, project=None, rect=False, resume=False, retina_masks=False, save=True, save_conf=False, save_crop=False, save_dir=runs/pose/train2, save_frames=False, save_json=False, save_period=-1, save_txt=False, scale=0.5, seed=0, shear=0.0, show=False, show_boxes=True, show_conf=True, show_labels=True, simplify=True, single_cls=False, source=None, split=val, stream_buffer=False, task=pose, time=None, tracker=botsort.yaml, translate=0.1, val=True, verbose=True, vid_stride=1, visualize=False, warmup_bias_lr=0.1, warmup_epochs=3.0, warmup_momentum=0.8, weight_decay=0.0005, workers=8, workspace=None\n",
            "Overriding model.yaml kpt_shape=[17, 3] with kpt_shape=[10, 3]\n",
            "Overriding model.yaml nc=80 with nc=5\n",
            "\n",
            "                   from  n    params  module                                       arguments                     \n",
            "  0                  -1  1       464  ultralytics.nn.modules.conv.Conv             [3, 16, 3, 2]                 \n",
            "  1                  -1  1      4672  ultralytics.nn.modules.conv.Conv             [16, 32, 3, 2]                \n",
            "  2                  -1  1      6640  ultralytics.nn.modules.block.C3k2            [32, 64, 1, False, 0.25]      \n",
            "  3                  -1  1     36992  ultralytics.nn.modules.conv.Conv             [64, 64, 3, 2]                \n",
            "  4                  -1  1     26080  ultralytics.nn.modules.block.C3k2            [64, 128, 1, False, 0.25]     \n",
            "  5                  -1  1    147712  ultralytics.nn.modules.conv.Conv             [128, 128, 3, 2]              \n",
            "  6                  -1  1     87040  ultralytics.nn.modules.block.C3k2            [128, 128, 1, True]           \n",
            "  7                  -1  1    295424  ultralytics.nn.modules.conv.Conv             [128, 256, 3, 2]              \n",
            "  8                  -1  1    346112  ultralytics.nn.modules.block.C3k2            [256, 256, 1, True]           \n",
            "  9                  -1  1    164608  ultralytics.nn.modules.block.SPPF            [256, 256, 5]                 \n",
            " 10                  -1  1    249728  ultralytics.nn.modules.block.C2PSA           [256, 256, 1]                 \n",
            " 11                  -1  1         0  torch.nn.modules.upsampling.Upsample         [None, 2, 'nearest']          \n",
            " 12             [-1, 6]  1         0  ultralytics.nn.modules.conv.Concat           [1]                           \n",
            " 13                  -1  1    111296  ultralytics.nn.modules.block.C3k2            [384, 128, 1, False]          \n",
            " 14                  -1  1         0  torch.nn.modules.upsampling.Upsample         [None, 2, 'nearest']          \n",
            " 15             [-1, 4]  1         0  ultralytics.nn.modules.conv.Concat           [1]                           \n",
            " 16                  -1  1     32096  ultralytics.nn.modules.block.C3k2            [256, 64, 1, False]           \n",
            " 17                  -1  1     36992  ultralytics.nn.modules.conv.Conv             [64, 64, 3, 2]                \n",
            " 18            [-1, 13]  1         0  ultralytics.nn.modules.conv.Concat           [1]                           \n",
            " 19                  -1  1     86720  ultralytics.nn.modules.block.C3k2            [192, 128, 1, False]          \n",
            " 20                  -1  1    147712  ultralytics.nn.modules.conv.Conv             [128, 128, 3, 2]              \n",
            " 21            [-1, 10]  1         0  ultralytics.nn.modules.conv.Concat           [1]                           \n",
            " 22                  -1  1    378880  ultralytics.nn.modules.block.C3k2            [384, 256, 1, True]           \n",
            " 23        [16, 19, 22]  1    580057  ultralytics.nn.modules.head.Pose             [5, [10, 3], [64, 128, 256]]  \n",
            "YOLO11n-pose summary: 196 layers, 2,739,225 parameters, 2,739,209 gradients, 7.0 GFLOPs\n",
            "\n",
            "Transferred 499/541 items from pretrained weights\n",
            "Freezing layer 'model.23.dfl.conv.weight'\n",
            "\u001b[34m\u001b[1mAMP: \u001b[0mrunning Automatic Mixed Precision (AMP) checks...\n",
            "\u001b[KDownloading https://github.com/ultralytics/assets/releases/download/v8.3.0/yolo11n.pt to 'yolo11n.pt': 100% ━━━━━━━━━━━━ 5.4/5.4MB 102.7MB/s 0.1s\n",
            "\u001b[34m\u001b[1mAMP: \u001b[0mchecks passed ✅\n",
            "\u001b[34m\u001b[1mtrain: \u001b[0mFast image access ✅ (ping: 0.0±0.0 ms, read: 1734.0±388.6 MB/s, size: 78.4 KB)\n",
            "\u001b[K\u001b[34m\u001b[1mtrain: \u001b[0mScanning /content/Boxing_Punch_Detection-8/train/labels... 522 images, 48 backgrounds, 0 corrupt: 100% ━━━━━━━━━━━━ 522/522 1981.1it/s 0.3s\n",
            "\u001b[34m\u001b[1mtrain: \u001b[0mNew cache created: /content/Boxing_Punch_Detection-8/train/labels.cache\n",
            "\u001b[34m\u001b[1malbumentations: \u001b[0mBlur(p=0.01, blur_limit=(3, 7)), MedianBlur(p=0.01, blur_limit=(3, 7)), ToGray(p=0.01, method='weighted_average', num_output_channels=3), CLAHE(p=0.01, clip_limit=(1.0, 4.0), tile_grid_size=(8, 8))\n",
            "\u001b[34m\u001b[1mval: \u001b[0mFast image access ✅ (ping: 0.0±0.0 ms, read: 981.9±586.5 MB/s, size: 84.5 KB)\n",
            "\u001b[K\u001b[34m\u001b[1mval: \u001b[0mScanning /content/Boxing_Punch_Detection-8/valid/labels... 50 images, 5 backgrounds, 0 corrupt: 100% ━━━━━━━━━━━━ 50/50 427.0it/s 0.1s\n",
            "\u001b[34m\u001b[1mval: \u001b[0mNew cache created: /content/Boxing_Punch_Detection-8/valid/labels.cache\n",
            "Plotting labels to runs/pose/train2/labels.jpg... \n",
            "\u001b[34m\u001b[1moptimizer:\u001b[0m 'optimizer=auto' found, ignoring 'lr0=0.01' and 'momentum=0.937' and determining best 'optimizer', 'lr0' and 'momentum' automatically... \n",
            "\u001b[34m\u001b[1moptimizer:\u001b[0m AdamW(lr=0.001111, momentum=0.9) with parameter groups 87 weight(decay=0.0), 97 weight(decay=0.0005), 96 bias(decay=0.0)\n",
            "Image sizes 640 train, 640 val\n",
            "Using 2 dataloader workers\n",
            "Logging results to \u001b[1mruns/pose/train2\u001b[0m\n",
            "Starting training for 3 epochs...\n",
            "\n",
            "      Epoch    GPU_mem   box_loss  pose_loss  kobj_loss   cls_loss   dfl_loss  Instances       Size\n",
            "\u001b[K        1/3      2.45G      1.685      7.284     0.7108       4.11      1.981         28        640: 100% ━━━━━━━━━━━━ 33/33 1.1it/s 30.3s\n",
            "\u001b[K                 Class     Images  Instances      Box(P          R      mAP50  mAP50-95)     Pose(P          R      mAP50  mAP50-95): 100% ━━━━━━━━━━━━ 2/2 0.36it/s 5.6s\n",
            "                   all         50         48      0.297      0.144      0.137     0.0711    0.00101     0.0154   0.000663   0.000107\n",
            "\n",
            "      Epoch    GPU_mem   box_loss  pose_loss  kobj_loss   cls_loss   dfl_loss  Instances       Size\n",
            "\u001b[K        2/3      2.84G      1.394      5.962      0.723      3.158      1.679         16        640: 100% ━━━━━━━━━━━━ 33/33 3.5it/s 9.5s\n",
            "\u001b[K                 Class     Images  Instances      Box(P          R      mAP50  mAP50-95)     Pose(P          R      mAP50  mAP50-95): 100% ━━━━━━━━━━━━ 2/2 3.7it/s 0.5s\n",
            "                   all         50         48      0.318      0.245      0.156     0.0647    0.00551     0.0404    0.00686   0.000884\n",
            "\n",
            "      Epoch    GPU_mem   box_loss  pose_loss  kobj_loss   cls_loss   dfl_loss  Instances       Size\n",
            "\u001b[K        3/3      2.86G      1.343       5.56     0.7114      2.826      1.611         34        640: 100% ━━━━━━━━━━━━ 33/33 3.5it/s 9.4s\n",
            "\u001b[K                 Class     Images  Instances      Box(P          R      mAP50  mAP50-95)     Pose(P          R      mAP50  mAP50-95): 100% ━━━━━━━━━━━━ 2/2 3.3it/s 0.6s\n",
            "                   all         50         48      0.105      0.431       0.22      0.116     0.0452      0.152      0.032    0.00534\n",
            "\n",
            "3 epochs completed in 0.016 hours.\n",
            "Optimizer stripped from runs/pose/train2/weights/last.pt, 5.8MB\n",
            "Optimizer stripped from runs/pose/train2/weights/best.pt, 5.8MB\n",
            "\n",
            "Validating runs/pose/train2/weights/best.pt...\n",
            "Ultralytics 8.3.186 🚀 Python-3.12.11 torch-2.8.0+cu126 CUDA:0 (Tesla T4, 15095MiB)\n",
            "YOLO11n-pose summary (fused): 109 layers, 2,731,357 parameters, 0 gradients, 6.9 GFLOPs\n",
            "\u001b[K                 Class     Images  Instances      Box(P          R      mAP50  mAP50-95)     Pose(P          R      mAP50  mAP50-95): 100% ━━━━━━━━━━━━ 2/2 3.0it/s 0.7s\n",
            "                   all         50         48      0.101      0.406       0.22      0.116      0.045      0.152      0.032    0.00535\n",
            "                  Hook         11         13      0.135      0.615      0.179     0.0952     0.0539      0.308     0.0666    0.00846\n",
            "                   Jab         16         16      0.208       0.75      0.271      0.125     0.0542       0.25     0.0309    0.00567\n",
            "              No Punch          5          5          0          0      0.369      0.237      0.117        0.2     0.0502     0.0101\n",
            "              Straight         12         12      0.165      0.667      0.241      0.104          0          0    0.00299   0.000453\n",
            "              Uppercut          2          2          0          0      0.039     0.0186          0          0    0.00934    0.00204\n",
            "Speed: 0.2ms preprocess, 3.9ms inference, 0.0ms loss, 2.3ms postprocess per image\n",
            "Results saved to \u001b[1mruns/pose/train2\u001b[0m\n",
            "💡 Learn more at https://docs.ultralytics.com/modes/train\n"
          ]
        }
      ]
    },
    {
      "cell_type": "markdown",
      "source": [
        "# 4. Export\n",
        "\n",
        "Export a YOLO model to any supported format below with the `format` argument, i.e. `format=onnx`. See [Export Docs](https://docs.ultralytics.com/modes/export/) for more information.\n",
        "\n",
        "- 💡 ProTip: Export to [ONNX](https://docs.ultralytics.com/integrations/onnx/) or [OpenVINO](https://docs.ultralytics.com/integrations/openvino/) for up to 3x CPU speedup.\n",
        "- 💡 ProTip: Export to [TensorRT](https://docs.ultralytics.com/integrations/tensorrt/) for up to 5x GPU speedup.\n",
        "\n",
        "| Format | `format` Argument | Model | Metadata | Arguments |\n",
        "|--------|-----------------|-------|----------|------------|\n",
        "| [PyTorch](https://pytorch.org/) | - | `yolo11n.pt` | ✅ | - |\n",
        "| [TorchScript](https://docs.ultralytics.com/integrations/torchscript) | `torchscript` | `yolo11n.torchscript` | ✅ | `imgsz`, `batch`, `dynamic`, `optimize`, `half`, `nms`, `device` |\n",
        "| [ONNX](https://docs.ultralytics.com/integrations/onnx) | `onnx` | `yolo11n.onnx` | ✅ | `imgsz`, `batch`, `dynamic`, `half`, `opset`, `simplify`, `nms`, `device` |\n",
        "| [OpenVINO](https://docs.ultralytics.com/integrations/openvino) | `openvino` | `yolo11n_openvino_model/` | ✅ | `imgsz`, `batch`, `dynamic`, `half`, `int8`, `nms`, `fraction`, `device`, `data` |\n",
        "| [TensorRT](https://docs.ultralytics.com/integrations/tensorrt) | `engine` | `yolo11n.engine` | ✅ | `imgsz`, `batch`, `dynamic`, `half`, `int8`, `simplify`, `nms`, `fraction`, `device`, `data`, `workspace` |\n",
        "| [CoreML](https://docs.ultralytics.com/integrations/coreml) | `coreml` | `yolo11n.mlpackage` | ✅ | `imgsz`, `batch`, `half`, `int8`, `nms`, `device` |\n",
        "| [TF SavedModel](https://docs.ultralytics.com/integrations/tf-savedmodel) | `saved_model` | `yolo11n_saved_model/` | ✅ | `imgsz`, `batch`, `int8`, `keras`, `nms`, `device` |\n",
        "| [TF GraphDef](https://docs.ultralytics.com/integrations/tf-graphdef) | `pb` | `yolo11n.pb` | ❌ | `imgsz`, `batch`, `device` |\n",
        "| [TF Lite](https://docs.ultralytics.com/integrations/tflite) | `tflite` | `yolo11n.tflite` | ✅ | `imgsz`, `batch`, `half`, `int8`, `nms`, `fraction`, `device`, `data` |\n",
        "| [TF Edge TPU](https://docs.ultralytics.com/integrations/edge-tpu) | `edgetpu` | `yolo11n_edgetpu.tflite` | ✅ | `imgsz`, `device` |\n",
        "| [TF.js](https://docs.ultralytics.com/integrations/tfjs) | `tfjs` | `yolo11n_web_model/` | ✅ | `imgsz`, `batch`, `half`, `int8`, `nms`, `device` |\n",
        "| [PaddlePaddle](https://docs.ultralytics.com/integrations/paddlepaddle) | `paddle` | `yolo11n_paddle_model/` | ✅ | `imgsz`, `batch`, `device` |\n",
        "| [MNN](https://docs.ultralytics.com/integrations/mnn) | `mnn` | `yolo11n.mnn` | ✅ | `imgsz`, `batch`, `half`, `int8`, `device` |\n",
        "| [NCNN](https://docs.ultralytics.com/integrations/ncnn) | `ncnn` | `yolo11n_ncnn_model/` | ✅ | `imgsz`, `batch`, `half`, `device` |\n",
        "| [IMX500](https://docs.ultralytics.com/integrations/sony-imx500) | `imx` | `yolo11n_imx_model/` | ✅ | `imgsz`, `int8`, `fraction`, `device`, `data` |\n",
        "| [RKNN](https://docs.ultralytics.com/integrations/rockchip-rknn) | `rknn` | `yolo11n_rknn_model/` | ✅ | `imgsz`, `batch`, `name`, `device` |"
      ],
      "metadata": {
        "id": "nPZZeNrLCQG6"
      }
    },
    {
      "cell_type": "code",
      "source": [
        "!yolo export model=yolo11n.pt format=torchscript"
      ],
      "metadata": {
        "colab": {
          "base_uri": "https://localhost:8080/"
        },
        "id": "CYIjW4igCjqD",
        "outputId": "3083d422-c6f8-4500-ede2-fe28ae9d5cfa"
      },
      "execution_count": null,
      "outputs": [
        {
          "output_type": "stream",
          "name": "stdout",
          "text": [
            "Ultralytics 8.3.174 🚀 Python-3.11.13 torch-2.6.0+cu124 CPU (Intel Xeon 2.20GHz)\n",
            "💡 ProTip: Export to OpenVINO format for best performance on Intel hardware. Learn more at https://docs.ultralytics.com/integrations/openvino/\n",
            "YOLO11n summary (fused): 100 layers, 2,616,248 parameters, 0 gradients, 6.5 GFLOPs\n",
            "\n",
            "\u001b[34m\u001b[1mPyTorch:\u001b[0m starting from 'yolo11n.pt' with input shape (1, 3, 640, 640) BCHW and output shape(s) (1, 84, 8400) (5.4 MB)\n",
            "\n",
            "\u001b[34m\u001b[1mTorchScript:\u001b[0m starting export with torch 2.6.0+cu124...\n",
            "\u001b[34m\u001b[1mTorchScript:\u001b[0m export success ✅ 2.9s, saved as 'yolo11n.torchscript' (10.5 MB)\n",
            "\n",
            "Export complete (3.4s)\n",
            "Results saved to \u001b[1m/content\u001b[0m\n",
            "Predict:         yolo predict task=detect model=yolo11n.torchscript imgsz=640  \n",
            "Validate:        yolo val task=detect model=yolo11n.torchscript imgsz=640 data=/usr/src/ultralytics/ultralytics/cfg/datasets/coco.yaml  \n",
            "Visualize:       https://netron.app\n",
            "💡 Learn more at https://docs.ultralytics.com/modes/export\n"
          ]
        }
      ]
    },
    {
      "cell_type": "markdown",
      "source": [
        "# 5. Python Usage\n",
        "\n",
        "YOLO11 was reimagined using Python-first principles for the most seamless Python YOLO experience yet. YOLO11 models can be loaded from a trained checkpoint or created from scratch. Then methods are used to train, val, predict, and export the model. See detailed Python usage examples in the [YOLO11 Python Docs](https://docs.ultralytics.com/usage/python/)."
      ],
      "metadata": {
        "id": "kUMOQ0OeDBJG"
      }
    },
    {
      "cell_type": "code",
      "source": [
        "from ultralytics import YOLO\n",
        "\n",
        "\n",
        "model = YOLO('/content/runs/pose/train2/weights/best.pt')  # load a pretrained model (recommended for training)\n",
        "\n",
        "\n",
        "results = model('https://i1-thethao.vnecdn.net/2025/08/22/tyson1-PNG-1755807036-1676-1755807243.png?w=1020&h=0&q=100&dpr=1&fit=crop&s=dnaDF9qtHN_Y05GEhuihGw', save = True)  # predict on an image\n"
      ],
      "metadata": {
        "id": "bpF9-vS_DAaf",
        "outputId": "87883343-9b6f-4521-da4f-cbfd7c1f778f",
        "colab": {
          "base_uri": "https://localhost:8080/",
          "height": 1000
        }
      },
      "execution_count": 11,
      "outputs": [
        {
          "output_type": "stream",
          "name": "stdout",
          "text": [
            "\n",
            "1/1: https://i1-thethao.vnecdn.net/2025/08/22/tyson1-PNG-1755807036-1676-1755807243.png?w=1020&h=0&q=100&dpr=1&fit=crop&s=dnaDF9qtHN_Y05GEhuihGw... Success ✅ (inf frames of shape 1020x664 at 25.00 FPS)\n",
            "\n",
            "WARNING ⚠️ \n",
            "inference results will accumulate in RAM unless `stream=True` is passed, causing potential out-of-memory\n",
            "errors for large sources or long-running streams and videos. See https://docs.ultralytics.com/modes/predict/ for help.\n",
            "\n",
            "Example:\n",
            "    results = model(source=..., stream=True)  # generator of Results objects\n",
            "    for r in results:\n",
            "        boxes = r.boxes  # Boxes object for bbox outputs\n",
            "        masks = r.masks  # Masks object for segment masks outputs\n",
            "        probs = r.probs  # Class probabilities for classification outputs\n",
            "\n",
            "WARNING ⚠️ Video stream unresponsive, please check your IP camera connection.\n",
            "0: 448x640 1 Jab, 1 Straight, 476.6ms\n",
            "0: 448x640 (no detections), 14.6ms\n",
            "WARNING ⚠️ Video stream unresponsive, please check your IP camera connection.\n",
            "0: 448x640 1 Jab, 1 Straight, 9.6ms\n",
            "WARNING ⚠️ Waiting for stream 0\n",
            "WARNING ⚠️ Waiting for stream 0\n",
            "WARNING ⚠️ Waiting for stream 0\n",
            "WARNING ⚠️ Waiting for stream 0\n",
            "WARNING ⚠️ Waiting for stream 0\n",
            "WARNING ⚠️ Waiting for stream 0\n",
            "WARNING ⚠️ Waiting for stream 0\n",
            "WARNING ⚠️ Waiting for stream 0\n",
            "WARNING ⚠️ Waiting for stream 0\n",
            "WARNING ⚠️ Waiting for stream 0\n",
            "WARNING ⚠️ Waiting for stream 0\n",
            "WARNING ⚠️ Waiting for stream 0\n",
            "WARNING ⚠️ Waiting for stream 0\n",
            "WARNING ⚠️ Waiting for stream 0\n",
            "WARNING ⚠️ Waiting for stream 0\n",
            "WARNING ⚠️ Waiting for stream 0\n",
            "WARNING ⚠️ Waiting for stream 0\n",
            "WARNING ⚠️ Waiting for stream 0\n",
            "WARNING ⚠️ Waiting for stream 0\n",
            "WARNING ⚠️ Waiting for stream 0\n",
            "WARNING ⚠️ Waiting for stream 0\n",
            "WARNING ⚠️ Waiting for stream 0\n",
            "WARNING ⚠️ Waiting for stream 0\n",
            "WARNING ⚠️ Waiting for stream 0\n",
            "WARNING ⚠️ Waiting for stream 0\n",
            "WARNING ⚠️ Waiting for stream 0\n",
            "WARNING ⚠️ Waiting for stream 0\n",
            "WARNING ⚠️ Waiting for stream 0\n",
            "WARNING ⚠️ Waiting for stream 0\n",
            "WARNING ⚠️ Waiting for stream 0\n",
            "WARNING ⚠️ Waiting for stream 0\n",
            "WARNING ⚠️ Waiting for stream 0\n",
            "WARNING ⚠️ Waiting for stream 0\n",
            "WARNING ⚠️ Waiting for stream 0\n",
            "WARNING ⚠️ Waiting for stream 0\n",
            "WARNING ⚠️ Waiting for stream 0\n",
            "WARNING ⚠️ Waiting for stream 0\n",
            "WARNING ⚠️ Waiting for stream 0\n",
            "WARNING ⚠️ Waiting for stream 0\n",
            "WARNING ⚠️ Waiting for stream 0\n",
            "WARNING ⚠️ Waiting for stream 0\n",
            "WARNING ⚠️ Waiting for stream 0\n",
            "WARNING ⚠️ Waiting for stream 0\n",
            "WARNING ⚠️ Waiting for stream 0\n",
            "WARNING ⚠️ Waiting for stream 0\n",
            "WARNING ⚠️ Waiting for stream 0\n",
            "WARNING ⚠️ Waiting for stream 0\n",
            "WARNING ⚠️ Waiting for stream 0\n",
            "WARNING ⚠️ Waiting for stream 0\n",
            "WARNING ⚠️ Waiting for stream 0\n",
            "WARNING ⚠️ Waiting for stream 0\n",
            "WARNING ⚠️ Waiting for stream 0\n",
            "WARNING ⚠️ Video stream unresponsive, please check your IP camera connection.\n",
            "0: 448x640 (no detections), 13.2ms\n",
            "0: 448x640 1 Jab, 1 Straight, 8.0ms\n",
            "WARNING ⚠️ Waiting for stream 0\n",
            "WARNING ⚠️ Waiting for stream 0\n",
            "WARNING ⚠️ Waiting for stream 0\n",
            "WARNING ⚠️ Waiting for stream 0\n",
            "WARNING ⚠️ Waiting for stream 0\n",
            "WARNING ⚠️ Waiting for stream 0\n",
            "WARNING ⚠️ Waiting for stream 0\n",
            "WARNING ⚠️ Waiting for stream 0\n",
            "WARNING ⚠️ Waiting for stream 0\n",
            "WARNING ⚠️ Waiting for stream 0\n",
            "WARNING ⚠️ Waiting for stream 0\n",
            "WARNING ⚠️ Waiting for stream 0\n",
            "WARNING ⚠️ Waiting for stream 0\n",
            "WARNING ⚠️ Waiting for stream 0\n",
            "WARNING ⚠️ Waiting for stream 0\n",
            "WARNING ⚠️ Waiting for stream 0\n",
            "WARNING ⚠️ Waiting for stream 0\n",
            "WARNING ⚠️ Waiting for stream 0\n",
            "WARNING ⚠️ Waiting for stream 0\n",
            "WARNING ⚠️ Waiting for stream 0\n",
            "WARNING ⚠️ Waiting for stream 0\n",
            "WARNING ⚠️ Waiting for stream 0\n",
            "WARNING ⚠️ Waiting for stream 0\n",
            "WARNING ⚠️ Waiting for stream 0\n",
            "WARNING ⚠️ Waiting for stream 0\n",
            "WARNING ⚠️ Waiting for stream 0\n",
            "WARNING ⚠️ Waiting for stream 0\n",
            "WARNING ⚠️ Waiting for stream 0\n",
            "WARNING ⚠️ Waiting for stream 0\n",
            "WARNING ⚠️ Waiting for stream 0\n",
            "WARNING ⚠️ Waiting for stream 0\n",
            "WARNING ⚠️ Waiting for stream 0\n",
            "WARNING ⚠️ Waiting for stream 0\n",
            "WARNING ⚠️ Waiting for stream 0\n",
            "WARNING ⚠️ Waiting for stream 0\n",
            "WARNING ⚠️ Waiting for stream 0\n",
            "WARNING ⚠️ Waiting for stream 0\n",
            "WARNING ⚠️ Waiting for stream 0\n",
            "WARNING ⚠️ Waiting for stream 0\n",
            "WARNING ⚠️ Waiting for stream 0\n",
            "WARNING ⚠️ Waiting for stream 0\n",
            "WARNING ⚠️ Waiting for stream 0\n",
            "WARNING ⚠️ Waiting for stream 0\n",
            "WARNING ⚠️ Waiting for stream 0\n",
            "WARNING ⚠️ Waiting for stream 0\n",
            "WARNING ⚠️ Waiting for stream 0\n",
            "WARNING ⚠️ Waiting for stream 0\n",
            "WARNING ⚠️ Waiting for stream 0\n",
            "WARNING ⚠️ Waiting for stream 0\n",
            "WARNING ⚠️ Waiting for stream 0\n",
            "WARNING ⚠️ Waiting for stream 0\n",
            "WARNING ⚠️ Waiting for stream 0\n",
            "WARNING ⚠️ Waiting for stream 0\n",
            "WARNING ⚠️ Waiting for stream 0\n",
            "WARNING ⚠️ Waiting for stream 0\n",
            "WARNING ⚠️ Waiting for stream 0\n",
            "WARNING ⚠️ Waiting for stream 0\n",
            "WARNING ⚠️ Waiting for stream 0\n",
            "WARNING ⚠️ Video stream unresponsive, please check your IP camera connection.\n",
            "0: 448x640 (no detections), 12.8ms\n",
            "0: 448x640 1 Jab, 1 Straight, 8.8ms\n",
            "WARNING ⚠️ Waiting for stream 0\n",
            "WARNING ⚠️ Waiting for stream 0\n",
            "WARNING ⚠️ Waiting for stream 0\n",
            "WARNING ⚠️ Waiting for stream 0\n",
            "WARNING ⚠️ Waiting for stream 0\n",
            "WARNING ⚠️ Waiting for stream 0\n",
            "WARNING ⚠️ Waiting for stream 0\n",
            "WARNING ⚠️ Waiting for stream 0\n",
            "WARNING ⚠️ Waiting for stream 0\n",
            "WARNING ⚠️ Waiting for stream 0\n",
            "WARNING ⚠️ Waiting for stream 0\n",
            "WARNING ⚠️ Waiting for stream 0\n",
            "WARNING ⚠️ Waiting for stream 0\n",
            "WARNING ⚠️ Waiting for stream 0\n",
            "WARNING ⚠️ Waiting for stream 0\n",
            "WARNING ⚠️ Waiting for stream 0\n",
            "WARNING ⚠️ Waiting for stream 0\n",
            "WARNING ⚠️ Waiting for stream 0\n",
            "WARNING ⚠️ Waiting for stream 0\n",
            "WARNING ⚠️ Waiting for stream 0\n",
            "WARNING ⚠️ Waiting for stream 0\n",
            "WARNING ⚠️ Waiting for stream 0\n",
            "WARNING ⚠️ Waiting for stream 0\n",
            "WARNING ⚠️ Waiting for stream 0\n",
            "WARNING ⚠️ Waiting for stream 0\n",
            "WARNING ⚠️ Waiting for stream 0\n",
            "WARNING ⚠️ Waiting for stream 0\n",
            "WARNING ⚠️ Waiting for stream 0\n",
            "WARNING ⚠️ Waiting for stream 0\n",
            "WARNING ⚠️ Waiting for stream 0\n",
            "WARNING ⚠️ Waiting for stream 0\n",
            "WARNING ⚠️ Waiting for stream 0\n",
            "WARNING ⚠️ Waiting for stream 0\n",
            "WARNING ⚠️ Waiting for stream 0\n",
            "WARNING ⚠️ Waiting for stream 0\n",
            "WARNING ⚠️ Waiting for stream 0\n",
            "WARNING ⚠️ Waiting for stream 0\n",
            "WARNING ⚠️ Waiting for stream 0\n",
            "WARNING ⚠️ Waiting for stream 0\n",
            "WARNING ⚠️ Waiting for stream 0\n",
            "WARNING ⚠️ Waiting for stream 0\n",
            "WARNING ⚠️ Waiting for stream 0\n",
            "WARNING ⚠️ Waiting for stream 0\n",
            "WARNING ⚠️ Waiting for stream 0\n",
            "WARNING ⚠️ Waiting for stream 0\n",
            "WARNING ⚠️ Waiting for stream 0\n",
            "WARNING ⚠️ Waiting for stream 0\n",
            "WARNING ⚠️ Waiting for stream 0\n",
            "WARNING ⚠️ Waiting for stream 0\n",
            "WARNING ⚠️ Waiting for stream 0\n",
            "WARNING ⚠️ Waiting for stream 0\n",
            "WARNING ⚠️ Waiting for stream 0\n",
            "0: 448x640 (no detections), 11.7ms\n",
            "WARNING ⚠️ Video stream unresponsive, please check your IP camera connection.\n",
            "0: 448x640 1 Jab, 1 Straight, 8.7ms\n",
            "WARNING ⚠️ Waiting for stream 0\n",
            "WARNING ⚠️ Waiting for stream 0\n",
            "WARNING ⚠️ Waiting for stream 0\n",
            "WARNING ⚠️ Waiting for stream 0\n",
            "WARNING ⚠️ Waiting for stream 0\n",
            "WARNING ⚠️ Waiting for stream 0\n",
            "WARNING ⚠️ Waiting for stream 0\n",
            "WARNING ⚠️ Waiting for stream 0\n",
            "WARNING ⚠️ Waiting for stream 0\n",
            "WARNING ⚠️ Waiting for stream 0\n",
            "WARNING ⚠️ Waiting for stream 0\n",
            "WARNING ⚠️ Waiting for stream 0\n",
            "WARNING ⚠️ Waiting for stream 0\n",
            "WARNING ⚠️ Waiting for stream 0\n",
            "WARNING ⚠️ Waiting for stream 0\n",
            "WARNING ⚠️ Waiting for stream 0\n",
            "WARNING ⚠️ Waiting for stream 0\n",
            "WARNING ⚠️ Waiting for stream 0\n",
            "WARNING ⚠️ Waiting for stream 0\n",
            "WARNING ⚠️ Waiting for stream 0\n",
            "WARNING ⚠️ Waiting for stream 0\n",
            "WARNING ⚠️ Waiting for stream 0\n",
            "WARNING ⚠️ Waiting for stream 0\n",
            "WARNING ⚠️ Waiting for stream 0\n",
            "WARNING ⚠️ Waiting for stream 0\n",
            "WARNING ⚠️ Waiting for stream 0\n",
            "WARNING ⚠️ Waiting for stream 0\n",
            "WARNING ⚠️ Waiting for stream 0\n",
            "WARNING ⚠️ Waiting for stream 0\n",
            "WARNING ⚠️ Waiting for stream 0\n",
            "WARNING ⚠️ Waiting for stream 0\n",
            "WARNING ⚠️ Waiting for stream 0\n",
            "WARNING ⚠️ Waiting for stream 0\n",
            "WARNING ⚠️ Waiting for stream 0\n",
            "WARNING ⚠️ Waiting for stream 0\n",
            "WARNING ⚠️ Waiting for stream 0\n",
            "WARNING ⚠️ Waiting for stream 0\n",
            "WARNING ⚠️ Waiting for stream 0\n",
            "WARNING ⚠️ Waiting for stream 0\n",
            "WARNING ⚠️ Waiting for stream 0\n",
            "WARNING ⚠️ Waiting for stream 0\n",
            "WARNING ⚠️ Waiting for stream 0\n",
            "WARNING ⚠️ Waiting for stream 0\n",
            "WARNING ⚠️ Waiting for stream 0\n",
            "WARNING ⚠️ Waiting for stream 0\n",
            "WARNING ⚠️ Waiting for stream 0\n",
            "WARNING ⚠️ Waiting for stream 0\n",
            "WARNING ⚠️ Waiting for stream 0\n",
            "WARNING ⚠️ Waiting for stream 0\n",
            "WARNING ⚠️ Waiting for stream 0\n",
            "WARNING ⚠️ Waiting for stream 0\n",
            "WARNING ⚠️ Waiting for stream 0\n",
            "WARNING ⚠️ Waiting for stream 0\n",
            "WARNING ⚠️ Waiting for stream 0\n",
            "WARNING ⚠️ Waiting for stream 0\n",
            "WARNING ⚠️ Video stream unresponsive, please check your IP camera connection.\n",
            "0: 448x640 (no detections), 28.7ms\n",
            "0: 448x640 1 Jab, 1 Straight, 13.8ms\n",
            "WARNING ⚠️ Waiting for stream 0\n",
            "WARNING ⚠️ Waiting for stream 0\n",
            "WARNING ⚠️ Waiting for stream 0\n",
            "WARNING ⚠️ Waiting for stream 0\n",
            "WARNING ⚠️ Waiting for stream 0\n",
            "WARNING ⚠️ Waiting for stream 0\n",
            "WARNING ⚠️ Waiting for stream 0\n",
            "WARNING ⚠️ Waiting for stream 0\n",
            "WARNING ⚠️ Waiting for stream 0\n",
            "WARNING ⚠️ Waiting for stream 0\n",
            "WARNING ⚠️ Waiting for stream 0\n",
            "WARNING ⚠️ Waiting for stream 0\n",
            "WARNING ⚠️ Waiting for stream 0\n",
            "WARNING ⚠️ Waiting for stream 0\n",
            "WARNING ⚠️ Waiting for stream 0\n",
            "WARNING ⚠️ Waiting for stream 0\n",
            "WARNING ⚠️ Waiting for stream 0\n",
            "WARNING ⚠️ Waiting for stream 0\n",
            "WARNING ⚠️ Waiting for stream 0\n",
            "WARNING ⚠️ Waiting for stream 0\n",
            "WARNING ⚠️ Waiting for stream 0\n",
            "WARNING ⚠️ Waiting for stream 0\n",
            "WARNING ⚠️ Waiting for stream 0\n",
            "WARNING ⚠️ Waiting for stream 0\n",
            "WARNING ⚠️ Waiting for stream 0\n",
            "WARNING ⚠️ Waiting for stream 0\n",
            "WARNING ⚠️ Waiting for stream 0\n",
            "WARNING ⚠️ Waiting for stream 0\n",
            "WARNING ⚠️ Waiting for stream 0\n",
            "WARNING ⚠️ Waiting for stream 0\n",
            "WARNING ⚠️ Waiting for stream 0\n",
            "WARNING ⚠️ Waiting for stream 0\n",
            "WARNING ⚠️ Waiting for stream 0\n",
            "WARNING ⚠️ Waiting for stream 0\n",
            "WARNING ⚠️ Waiting for stream 0\n",
            "WARNING ⚠️ Waiting for stream 0\n",
            "WARNING ⚠️ Waiting for stream 0\n",
            "WARNING ⚠️ Waiting for stream 0\n",
            "WARNING ⚠️ Waiting for stream 0\n",
            "WARNING ⚠️ Waiting for stream 0\n",
            "WARNING ⚠️ Waiting for stream 0\n",
            "WARNING ⚠️ Waiting for stream 0\n",
            "WARNING ⚠️ Waiting for stream 0\n",
            "WARNING ⚠️ Waiting for stream 0\n",
            "WARNING ⚠️ Waiting for stream 0\n",
            "WARNING ⚠️ Waiting for stream 0\n",
            "WARNING ⚠️ Waiting for stream 0\n",
            "WARNING ⚠️ Waiting for stream 0\n",
            "WARNING ⚠️ Waiting for stream 0\n",
            "WARNING ⚠️ Waiting for stream 0\n",
            "WARNING ⚠️ Waiting for stream 0\n",
            "WARNING ⚠️ Waiting for stream 0\n",
            "WARNING ⚠️ Waiting for stream 0\n",
            "WARNING ⚠️ Waiting for stream 0\n",
            "WARNING ⚠️ Waiting for stream 0\n",
            "WARNING ⚠️ Waiting for stream 0\n",
            "WARNING ⚠️ Waiting for stream 0\n",
            "WARNING ⚠️ Waiting for stream 0\n",
            "0: 448x640 (no detections), 86.7ms\n",
            "WARNING ⚠️ Video stream unresponsive, please check your IP camera connection.\n",
            "0: 448x640 1 Jab, 1 Straight, 11.5ms\n",
            "WARNING ⚠️ Waiting for stream 0\n",
            "WARNING ⚠️ Waiting for stream 0\n",
            "WARNING ⚠️ Waiting for stream 0\n",
            "WARNING ⚠️ Waiting for stream 0\n",
            "WARNING ⚠️ Waiting for stream 0\n",
            "WARNING ⚠️ Waiting for stream 0\n",
            "WARNING ⚠️ Waiting for stream 0\n",
            "WARNING ⚠️ Waiting for stream 0\n",
            "WARNING ⚠️ Waiting for stream 0\n",
            "WARNING ⚠️ Waiting for stream 0\n",
            "WARNING ⚠️ Waiting for stream 0\n",
            "WARNING ⚠️ Waiting for stream 0\n",
            "WARNING ⚠️ Waiting for stream 0\n",
            "WARNING ⚠️ Waiting for stream 0\n",
            "WARNING ⚠️ Waiting for stream 0\n",
            "WARNING ⚠️ Waiting for stream 0\n",
            "WARNING ⚠️ Waiting for stream 0\n",
            "WARNING ⚠️ Waiting for stream 0\n",
            "WARNING ⚠️ Waiting for stream 0\n",
            "WARNING ⚠️ Waiting for stream 0\n",
            "WARNING ⚠️ Waiting for stream 0\n",
            "WARNING ⚠️ Waiting for stream 0\n",
            "WARNING ⚠️ Waiting for stream 0\n",
            "WARNING ⚠️ Waiting for stream 0\n",
            "WARNING ⚠️ Waiting for stream 0\n",
            "WARNING ⚠️ Waiting for stream 0\n",
            "WARNING ⚠️ Waiting for stream 0\n",
            "WARNING ⚠️ Waiting for stream 0\n",
            "WARNING ⚠️ Waiting for stream 0\n",
            "WARNING ⚠️ Waiting for stream 0\n",
            "WARNING ⚠️ Waiting for stream 0\n",
            "WARNING ⚠️ Waiting for stream 0\n",
            "WARNING ⚠️ Waiting for stream 0\n",
            "WARNING ⚠️ Waiting for stream 0\n",
            "WARNING ⚠️ Waiting for stream 0\n",
            "WARNING ⚠️ Waiting for stream 0\n",
            "WARNING ⚠️ Waiting for stream 0\n",
            "WARNING ⚠️ Waiting for stream 0\n",
            "WARNING ⚠️ Waiting for stream 0\n",
            "WARNING ⚠️ Waiting for stream 0\n",
            "WARNING ⚠️ Waiting for stream 0\n",
            "WARNING ⚠️ Waiting for stream 0\n",
            "WARNING ⚠️ Waiting for stream 0\n",
            "WARNING ⚠️ Waiting for stream 0\n",
            "WARNING ⚠️ Waiting for stream 0\n",
            "WARNING ⚠️ Waiting for stream 0\n",
            "WARNING ⚠️ Waiting for stream 0\n",
            "WARNING ⚠️ Waiting for stream 0\n",
            "WARNING ⚠️ Waiting for stream 0\n",
            "WARNING ⚠️ Waiting for stream 0\n",
            "WARNING ⚠️ Waiting for stream 0\n",
            "WARNING ⚠️ Waiting for stream 0\n",
            "WARNING ⚠️ Waiting for stream 0\n",
            "WARNING ⚠️ Video stream unresponsive, please check your IP camera connection.\n",
            "0: 448x640 (no detections), 11.9ms\n",
            "0: 448x640 1 Jab, 1 Straight, 9.2ms\n",
            "WARNING ⚠️ Waiting for stream 0\n",
            "WARNING ⚠️ Waiting for stream 0\n",
            "WARNING ⚠️ Waiting for stream 0\n",
            "WARNING ⚠️ Waiting for stream 0\n",
            "WARNING ⚠️ Waiting for stream 0\n",
            "WARNING ⚠️ Waiting for stream 0\n",
            "WARNING ⚠️ Waiting for stream 0\n",
            "WARNING ⚠️ Waiting for stream 0\n",
            "WARNING ⚠️ Waiting for stream 0\n",
            "WARNING ⚠️ Waiting for stream 0\n",
            "WARNING ⚠️ Waiting for stream 0\n",
            "WARNING ⚠️ Waiting for stream 0\n",
            "WARNING ⚠️ Waiting for stream 0\n",
            "WARNING ⚠️ Waiting for stream 0\n",
            "WARNING ⚠️ Waiting for stream 0\n",
            "WARNING ⚠️ Waiting for stream 0\n",
            "WARNING ⚠️ Waiting for stream 0\n",
            "WARNING ⚠️ Waiting for stream 0\n",
            "WARNING ⚠️ Waiting for stream 0\n",
            "WARNING ⚠️ Waiting for stream 0\n",
            "WARNING ⚠️ Waiting for stream 0\n",
            "WARNING ⚠️ Waiting for stream 0\n",
            "WARNING ⚠️ Waiting for stream 0\n",
            "WARNING ⚠️ Waiting for stream 0\n",
            "WARNING ⚠️ Waiting for stream 0\n",
            "WARNING ⚠️ Waiting for stream 0\n",
            "WARNING ⚠️ Waiting for stream 0\n",
            "WARNING ⚠️ Waiting for stream 0\n",
            "WARNING ⚠️ Waiting for stream 0\n",
            "WARNING ⚠️ Waiting for stream 0\n",
            "WARNING ⚠️ Waiting for stream 0\n",
            "WARNING ⚠️ Waiting for stream 0\n",
            "WARNING ⚠️ Waiting for stream 0\n",
            "WARNING ⚠️ Waiting for stream 0\n",
            "WARNING ⚠️ Waiting for stream 0\n",
            "WARNING ⚠️ Waiting for stream 0\n",
            "WARNING ⚠️ Waiting for stream 0\n",
            "WARNING ⚠️ Waiting for stream 0\n",
            "WARNING ⚠️ Waiting for stream 0\n",
            "WARNING ⚠️ Waiting for stream 0\n",
            "WARNING ⚠️ Waiting for stream 0\n",
            "WARNING ⚠️ Waiting for stream 0\n",
            "WARNING ⚠️ Waiting for stream 0\n",
            "WARNING ⚠️ Waiting for stream 0\n",
            "WARNING ⚠️ Waiting for stream 0\n",
            "WARNING ⚠️ Waiting for stream 0\n",
            "WARNING ⚠️ Waiting for stream 0\n",
            "WARNING ⚠️ Waiting for stream 0\n",
            "WARNING ⚠️ Waiting for stream 0\n",
            "WARNING ⚠️ Waiting for stream 0\n",
            "WARNING ⚠️ Waiting for stream 0\n",
            "WARNING ⚠️ Waiting for stream 0\n",
            "WARNING ⚠️ Waiting for stream 0\n",
            "WARNING ⚠️ Waiting for stream 0\n",
            "0: 448x640 (no detections), 11.8ms\n",
            "WARNING ⚠️ Video stream unresponsive, please check your IP camera connection.\n",
            "0: 448x640 1 Jab, 1 Straight, 8.5ms\n",
            "WARNING ⚠️ Waiting for stream 0\n",
            "WARNING ⚠️ Waiting for stream 0\n",
            "WARNING ⚠️ Waiting for stream 0\n",
            "WARNING ⚠️ Waiting for stream 0\n",
            "WARNING ⚠️ Waiting for stream 0\n",
            "WARNING ⚠️ Waiting for stream 0\n",
            "WARNING ⚠️ Waiting for stream 0\n",
            "WARNING ⚠️ Waiting for stream 0\n",
            "WARNING ⚠️ Waiting for stream 0\n",
            "WARNING ⚠️ Waiting for stream 0\n",
            "WARNING ⚠️ Waiting for stream 0\n",
            "WARNING ⚠️ Waiting for stream 0\n",
            "WARNING ⚠️ Waiting for stream 0\n",
            "WARNING ⚠️ Waiting for stream 0\n",
            "WARNING ⚠️ Waiting for stream 0\n",
            "WARNING ⚠️ Waiting for stream 0\n",
            "WARNING ⚠️ Waiting for stream 0\n",
            "WARNING ⚠️ Waiting for stream 0\n",
            "WARNING ⚠️ Waiting for stream 0\n",
            "WARNING ⚠️ Waiting for stream 0\n",
            "WARNING ⚠️ Waiting for stream 0\n",
            "WARNING ⚠️ Waiting for stream 0\n",
            "WARNING ⚠️ Waiting for stream 0\n",
            "WARNING ⚠️ Waiting for stream 0\n",
            "WARNING ⚠️ Waiting for stream 0\n",
            "WARNING ⚠️ Waiting for stream 0\n",
            "WARNING ⚠️ Waiting for stream 0\n",
            "WARNING ⚠️ Waiting for stream 0\n",
            "WARNING ⚠️ Waiting for stream 0\n",
            "WARNING ⚠️ Waiting for stream 0\n",
            "WARNING ⚠️ Waiting for stream 0\n",
            "WARNING ⚠️ Waiting for stream 0\n",
            "WARNING ⚠️ Waiting for stream 0\n",
            "WARNING ⚠️ Waiting for stream 0\n",
            "WARNING ⚠️ Waiting for stream 0\n",
            "WARNING ⚠️ Waiting for stream 0\n",
            "WARNING ⚠️ Waiting for stream 0\n",
            "WARNING ⚠️ Waiting for stream 0\n",
            "WARNING ⚠️ Waiting for stream 0\n",
            "WARNING ⚠️ Waiting for stream 0\n",
            "WARNING ⚠️ Waiting for stream 0\n",
            "WARNING ⚠️ Waiting for stream 0\n",
            "WARNING ⚠️ Waiting for stream 0\n",
            "WARNING ⚠️ Waiting for stream 0\n",
            "WARNING ⚠️ Waiting for stream 0\n",
            "WARNING ⚠️ Waiting for stream 0\n",
            "WARNING ⚠️ Waiting for stream 0\n",
            "WARNING ⚠️ Waiting for stream 0\n",
            "WARNING ⚠️ Waiting for stream 0\n",
            "WARNING ⚠️ Waiting for stream 0\n",
            "WARNING ⚠️ Waiting for stream 0\n",
            "WARNING ⚠️ Waiting for stream 0\n",
            "WARNING ⚠️ Waiting for stream 0\n",
            "WARNING ⚠️ Waiting for stream 0\n",
            "WARNING ⚠️ Waiting for stream 0\n",
            "WARNING ⚠️ Waiting for stream 0\n",
            "WARNING ⚠️ Waiting for stream 0\n",
            "0: 448x640 (no detections), 11.7ms\n",
            "WARNING ⚠️ Video stream unresponsive, please check your IP camera connection.\n",
            "0: 448x640 1 Jab, 1 Straight, 8.2ms\n",
            "WARNING ⚠️ Waiting for stream 0\n",
            "WARNING ⚠️ Waiting for stream 0\n",
            "WARNING ⚠️ Waiting for stream 0\n",
            "WARNING ⚠️ Waiting for stream 0\n",
            "WARNING ⚠️ Waiting for stream 0\n",
            "WARNING ⚠️ Waiting for stream 0\n",
            "WARNING ⚠️ Waiting for stream 0\n",
            "WARNING ⚠️ Waiting for stream 0\n",
            "WARNING ⚠️ Waiting for stream 0\n",
            "WARNING ⚠️ Waiting for stream 0\n",
            "WARNING ⚠️ Waiting for stream 0\n",
            "WARNING ⚠️ Waiting for stream 0\n",
            "WARNING ⚠️ Waiting for stream 0\n",
            "WARNING ⚠️ Waiting for stream 0\n",
            "WARNING ⚠️ Waiting for stream 0\n",
            "WARNING ⚠️ Waiting for stream 0\n",
            "WARNING ⚠️ Waiting for stream 0\n",
            "WARNING ⚠️ Waiting for stream 0\n",
            "WARNING ⚠️ Waiting for stream 0\n",
            "WARNING ⚠️ Waiting for stream 0\n",
            "WARNING ⚠️ Waiting for stream 0\n",
            "WARNING ⚠️ Waiting for stream 0\n",
            "WARNING ⚠️ Waiting for stream 0\n",
            "WARNING ⚠️ Waiting for stream 0\n",
            "WARNING ⚠️ Waiting for stream 0\n",
            "WARNING ⚠️ Waiting for stream 0\n",
            "WARNING ⚠️ Waiting for stream 0\n",
            "WARNING ⚠️ Waiting for stream 0\n",
            "WARNING ⚠️ Waiting for stream 0\n",
            "WARNING ⚠️ Waiting for stream 0\n",
            "WARNING ⚠️ Waiting for stream 0\n",
            "WARNING ⚠️ Waiting for stream 0\n",
            "WARNING ⚠️ Waiting for stream 0\n",
            "WARNING ⚠️ Waiting for stream 0\n",
            "WARNING ⚠️ Waiting for stream 0\n",
            "WARNING ⚠️ Waiting for stream 0\n",
            "WARNING ⚠️ Waiting for stream 0\n",
            "WARNING ⚠️ Waiting for stream 0\n",
            "WARNING ⚠️ Waiting for stream 0\n",
            "WARNING ⚠️ Waiting for stream 0\n",
            "WARNING ⚠️ Waiting for stream 0\n",
            "WARNING ⚠️ Waiting for stream 0\n",
            "WARNING ⚠️ Waiting for stream 0\n",
            "WARNING ⚠️ Waiting for stream 0\n",
            "WARNING ⚠️ Waiting for stream 0\n",
            "WARNING ⚠️ Waiting for stream 0\n",
            "WARNING ⚠️ Waiting for stream 0\n",
            "WARNING ⚠️ Waiting for stream 0\n",
            "WARNING ⚠️ Waiting for stream 0\n",
            "WARNING ⚠️ Waiting for stream 0\n",
            "WARNING ⚠️ Waiting for stream 0\n",
            "WARNING ⚠️ Waiting for stream 0\n",
            "WARNING ⚠️ Waiting for stream 0\n",
            "WARNING ⚠️ Waiting for stream 0\n",
            "WARNING ⚠️ Video stream unresponsive, please check your IP camera connection.\n",
            "0: 448x640 (no detections), 16.3ms\n",
            "0: 448x640 1 Jab, 1 Straight, 12.5ms\n",
            "WARNING ⚠️ Waiting for stream 0\n",
            "WARNING ⚠️ Waiting for stream 0\n",
            "WARNING ⚠️ Waiting for stream 0\n",
            "WARNING ⚠️ Waiting for stream 0\n",
            "WARNING ⚠️ Waiting for stream 0\n",
            "WARNING ⚠️ Waiting for stream 0\n",
            "WARNING ⚠️ Waiting for stream 0\n",
            "WARNING ⚠️ Waiting for stream 0\n",
            "WARNING ⚠️ Waiting for stream 0\n",
            "WARNING ⚠️ Waiting for stream 0\n",
            "WARNING ⚠️ Waiting for stream 0\n",
            "WARNING ⚠️ Waiting for stream 0\n",
            "WARNING ⚠️ Waiting for stream 0\n",
            "WARNING ⚠️ Waiting for stream 0\n"
          ]
        },
        {
          "output_type": "error",
          "ename": "KeyboardInterrupt",
          "evalue": "",
          "traceback": [
            "\u001b[0;31m---------------------------------------------------------------------------\u001b[0m",
            "\u001b[0;31mKeyboardInterrupt\u001b[0m                         Traceback (most recent call last)",
            "\u001b[0;32m/tmp/ipython-input-521214325.py\u001b[0m in \u001b[0;36m<cell line: 0>\u001b[0;34m()\u001b[0m\n\u001b[1;32m      5\u001b[0m \u001b[0;34m\u001b[0m\u001b[0m\n\u001b[1;32m      6\u001b[0m \u001b[0;34m\u001b[0m\u001b[0m\n\u001b[0;32m----> 7\u001b[0;31m \u001b[0mresults\u001b[0m \u001b[0;34m=\u001b[0m \u001b[0mmodel\u001b[0m\u001b[0;34m(\u001b[0m\u001b[0;34m'https://i1-thethao.vnecdn.net/2025/08/22/tyson1-PNG-1755807036-1676-1755807243.png?w=1020&h=0&q=100&dpr=1&fit=crop&s=dnaDF9qtHN_Y05GEhuihGw'\u001b[0m\u001b[0;34m,\u001b[0m \u001b[0msave\u001b[0m \u001b[0;34m=\u001b[0m \u001b[0;32mTrue\u001b[0m\u001b[0;34m)\u001b[0m  \u001b[0;31m# predict on an image\u001b[0m\u001b[0;34m\u001b[0m\u001b[0;34m\u001b[0m\u001b[0m\n\u001b[0m",
            "\u001b[0;32m/usr/local/lib/python3.12/dist-packages/ultralytics/engine/model.py\u001b[0m in \u001b[0;36m__call__\u001b[0;34m(self, source, stream, **kwargs)\u001b[0m\n\u001b[1;32m    183\u001b[0m             \u001b[0;34m...\u001b[0m     \u001b[0mprint\u001b[0m\u001b[0;34m(\u001b[0m\u001b[0;34mf\"Detected {len(r)} objects in image\"\u001b[0m\u001b[0;34m)\u001b[0m\u001b[0;34m\u001b[0m\u001b[0;34m\u001b[0m\u001b[0m\n\u001b[1;32m    184\u001b[0m         \"\"\"\n\u001b[0;32m--> 185\u001b[0;31m         \u001b[0;32mreturn\u001b[0m \u001b[0mself\u001b[0m\u001b[0;34m.\u001b[0m\u001b[0mpredict\u001b[0m\u001b[0;34m(\u001b[0m\u001b[0msource\u001b[0m\u001b[0;34m,\u001b[0m \u001b[0mstream\u001b[0m\u001b[0;34m,\u001b[0m \u001b[0;34m**\u001b[0m\u001b[0mkwargs\u001b[0m\u001b[0;34m)\u001b[0m\u001b[0;34m\u001b[0m\u001b[0;34m\u001b[0m\u001b[0m\n\u001b[0m\u001b[1;32m    186\u001b[0m \u001b[0;34m\u001b[0m\u001b[0m\n\u001b[1;32m    187\u001b[0m     \u001b[0;34m@\u001b[0m\u001b[0mstaticmethod\u001b[0m\u001b[0;34m\u001b[0m\u001b[0;34m\u001b[0m\u001b[0m\n",
            "\u001b[0;32m/usr/local/lib/python3.12/dist-packages/ultralytics/engine/model.py\u001b[0m in \u001b[0;36mpredict\u001b[0;34m(self, source, stream, predictor, **kwargs)\u001b[0m\n\u001b[1;32m    553\u001b[0m         \u001b[0;32mif\u001b[0m \u001b[0mprompts\u001b[0m \u001b[0;32mand\u001b[0m \u001b[0mhasattr\u001b[0m\u001b[0;34m(\u001b[0m\u001b[0mself\u001b[0m\u001b[0;34m.\u001b[0m\u001b[0mpredictor\u001b[0m\u001b[0;34m,\u001b[0m \u001b[0;34m\"set_prompts\"\u001b[0m\u001b[0;34m)\u001b[0m\u001b[0;34m:\u001b[0m  \u001b[0;31m# for SAM-type models\u001b[0m\u001b[0;34m\u001b[0m\u001b[0;34m\u001b[0m\u001b[0m\n\u001b[1;32m    554\u001b[0m             \u001b[0mself\u001b[0m\u001b[0;34m.\u001b[0m\u001b[0mpredictor\u001b[0m\u001b[0;34m.\u001b[0m\u001b[0mset_prompts\u001b[0m\u001b[0;34m(\u001b[0m\u001b[0mprompts\u001b[0m\u001b[0;34m)\u001b[0m\u001b[0;34m\u001b[0m\u001b[0;34m\u001b[0m\u001b[0m\n\u001b[0;32m--> 555\u001b[0;31m         \u001b[0;32mreturn\u001b[0m \u001b[0mself\u001b[0m\u001b[0;34m.\u001b[0m\u001b[0mpredictor\u001b[0m\u001b[0;34m.\u001b[0m\u001b[0mpredict_cli\u001b[0m\u001b[0;34m(\u001b[0m\u001b[0msource\u001b[0m\u001b[0;34m=\u001b[0m\u001b[0msource\u001b[0m\u001b[0;34m)\u001b[0m \u001b[0;32mif\u001b[0m \u001b[0mis_cli\u001b[0m \u001b[0;32melse\u001b[0m \u001b[0mself\u001b[0m\u001b[0;34m.\u001b[0m\u001b[0mpredictor\u001b[0m\u001b[0;34m(\u001b[0m\u001b[0msource\u001b[0m\u001b[0;34m=\u001b[0m\u001b[0msource\u001b[0m\u001b[0;34m,\u001b[0m \u001b[0mstream\u001b[0m\u001b[0;34m=\u001b[0m\u001b[0mstream\u001b[0m\u001b[0;34m)\u001b[0m\u001b[0;34m\u001b[0m\u001b[0;34m\u001b[0m\u001b[0m\n\u001b[0m\u001b[1;32m    556\u001b[0m \u001b[0;34m\u001b[0m\u001b[0m\n\u001b[1;32m    557\u001b[0m     def track(\n",
            "\u001b[0;32m/usr/local/lib/python3.12/dist-packages/ultralytics/engine/predictor.py\u001b[0m in \u001b[0;36m__call__\u001b[0;34m(self, source, model, stream, *args, **kwargs)\u001b[0m\n\u001b[1;32m    225\u001b[0m             \u001b[0;32mreturn\u001b[0m \u001b[0mself\u001b[0m\u001b[0;34m.\u001b[0m\u001b[0mstream_inference\u001b[0m\u001b[0;34m(\u001b[0m\u001b[0msource\u001b[0m\u001b[0;34m,\u001b[0m \u001b[0mmodel\u001b[0m\u001b[0;34m,\u001b[0m \u001b[0;34m*\u001b[0m\u001b[0margs\u001b[0m\u001b[0;34m,\u001b[0m \u001b[0;34m**\u001b[0m\u001b[0mkwargs\u001b[0m\u001b[0;34m)\u001b[0m\u001b[0;34m\u001b[0m\u001b[0;34m\u001b[0m\u001b[0m\n\u001b[1;32m    226\u001b[0m         \u001b[0;32melse\u001b[0m\u001b[0;34m:\u001b[0m\u001b[0;34m\u001b[0m\u001b[0;34m\u001b[0m\u001b[0m\n\u001b[0;32m--> 227\u001b[0;31m             \u001b[0;32mreturn\u001b[0m \u001b[0mlist\u001b[0m\u001b[0;34m(\u001b[0m\u001b[0mself\u001b[0m\u001b[0;34m.\u001b[0m\u001b[0mstream_inference\u001b[0m\u001b[0;34m(\u001b[0m\u001b[0msource\u001b[0m\u001b[0;34m,\u001b[0m \u001b[0mmodel\u001b[0m\u001b[0;34m,\u001b[0m \u001b[0;34m*\u001b[0m\u001b[0margs\u001b[0m\u001b[0;34m,\u001b[0m \u001b[0;34m**\u001b[0m\u001b[0mkwargs\u001b[0m\u001b[0;34m)\u001b[0m\u001b[0;34m)\u001b[0m  \u001b[0;31m# merge list of Result into one\u001b[0m\u001b[0;34m\u001b[0m\u001b[0;34m\u001b[0m\u001b[0m\n\u001b[0m\u001b[1;32m    228\u001b[0m \u001b[0;34m\u001b[0m\u001b[0m\n\u001b[1;32m    229\u001b[0m     \u001b[0;32mdef\u001b[0m \u001b[0mpredict_cli\u001b[0m\u001b[0;34m(\u001b[0m\u001b[0mself\u001b[0m\u001b[0;34m,\u001b[0m \u001b[0msource\u001b[0m\u001b[0;34m=\u001b[0m\u001b[0;32mNone\u001b[0m\u001b[0;34m,\u001b[0m \u001b[0mmodel\u001b[0m\u001b[0;34m=\u001b[0m\u001b[0;32mNone\u001b[0m\u001b[0;34m)\u001b[0m\u001b[0;34m:\u001b[0m\u001b[0;34m\u001b[0m\u001b[0;34m\u001b[0m\u001b[0m\n",
            "\u001b[0;32m/usr/local/lib/python3.12/dist-packages/torch/utils/_contextlib.py\u001b[0m in \u001b[0;36mgenerator_context\u001b[0;34m(*args, **kwargs)\u001b[0m\n\u001b[1;32m     57\u001b[0m                     \u001b[0;31m# Pass the last request to the generator and get its response\u001b[0m\u001b[0;34m\u001b[0m\u001b[0;34m\u001b[0m\u001b[0m\n\u001b[1;32m     58\u001b[0m                     \u001b[0;32mwith\u001b[0m \u001b[0mctx_factory\u001b[0m\u001b[0;34m(\u001b[0m\u001b[0;34m)\u001b[0m\u001b[0;34m:\u001b[0m\u001b[0;34m\u001b[0m\u001b[0;34m\u001b[0m\u001b[0m\n\u001b[0;32m---> 59\u001b[0;31m                         \u001b[0mresponse\u001b[0m \u001b[0;34m=\u001b[0m \u001b[0mgen\u001b[0m\u001b[0;34m.\u001b[0m\u001b[0msend\u001b[0m\u001b[0;34m(\u001b[0m\u001b[0mrequest\u001b[0m\u001b[0;34m)\u001b[0m\u001b[0;34m\u001b[0m\u001b[0;34m\u001b[0m\u001b[0m\n\u001b[0m\u001b[1;32m     60\u001b[0m \u001b[0;34m\u001b[0m\u001b[0m\n\u001b[1;32m     61\u001b[0m         \u001b[0;31m# We let the exceptions raised above by the generator's `.throw` or\u001b[0m\u001b[0;34m\u001b[0m\u001b[0;34m\u001b[0m\u001b[0m\n",
            "\u001b[0;32m/usr/local/lib/python3.12/dist-packages/ultralytics/engine/predictor.py\u001b[0m in \u001b[0;36mstream_inference\u001b[0;34m(self, source, model, *args, **kwargs)\u001b[0m\n\u001b[1;32m    318\u001b[0m             )\n\u001b[1;32m    319\u001b[0m             \u001b[0mself\u001b[0m\u001b[0;34m.\u001b[0m\u001b[0mrun_callbacks\u001b[0m\u001b[0;34m(\u001b[0m\u001b[0;34m\"on_predict_start\"\u001b[0m\u001b[0;34m)\u001b[0m\u001b[0;34m\u001b[0m\u001b[0;34m\u001b[0m\u001b[0m\n\u001b[0;32m--> 320\u001b[0;31m             \u001b[0;32mfor\u001b[0m \u001b[0mself\u001b[0m\u001b[0;34m.\u001b[0m\u001b[0mbatch\u001b[0m \u001b[0;32min\u001b[0m \u001b[0mself\u001b[0m\u001b[0;34m.\u001b[0m\u001b[0mdataset\u001b[0m\u001b[0;34m:\u001b[0m\u001b[0;34m\u001b[0m\u001b[0;34m\u001b[0m\u001b[0m\n\u001b[0m\u001b[1;32m    321\u001b[0m                 \u001b[0mself\u001b[0m\u001b[0;34m.\u001b[0m\u001b[0mrun_callbacks\u001b[0m\u001b[0;34m(\u001b[0m\u001b[0;34m\"on_predict_batch_start\"\u001b[0m\u001b[0;34m)\u001b[0m\u001b[0;34m\u001b[0m\u001b[0;34m\u001b[0m\u001b[0m\n\u001b[1;32m    322\u001b[0m                 \u001b[0mpaths\u001b[0m\u001b[0;34m,\u001b[0m \u001b[0mim0s\u001b[0m\u001b[0;34m,\u001b[0m \u001b[0ms\u001b[0m \u001b[0;34m=\u001b[0m \u001b[0mself\u001b[0m\u001b[0;34m.\u001b[0m\u001b[0mbatch\u001b[0m\u001b[0;34m\u001b[0m\u001b[0;34m\u001b[0m\u001b[0m\n",
            "\u001b[0;32m/usr/local/lib/python3.12/dist-packages/ultralytics/data/loaders.py\u001b[0m in \u001b[0;36m__next__\u001b[0;34m(self)\u001b[0m\n\u001b[1;32m    204\u001b[0m                     \u001b[0mself\u001b[0m\u001b[0;34m.\u001b[0m\u001b[0mclose\u001b[0m\u001b[0;34m(\u001b[0m\u001b[0;34m)\u001b[0m\u001b[0;34m\u001b[0m\u001b[0;34m\u001b[0m\u001b[0m\n\u001b[1;32m    205\u001b[0m                     \u001b[0;32mraise\u001b[0m \u001b[0mStopIteration\u001b[0m\u001b[0;34m\u001b[0m\u001b[0;34m\u001b[0m\u001b[0m\n\u001b[0;32m--> 206\u001b[0;31m                 \u001b[0mtime\u001b[0m\u001b[0;34m.\u001b[0m\u001b[0msleep\u001b[0m\u001b[0;34m(\u001b[0m\u001b[0;36m1\u001b[0m \u001b[0;34m/\u001b[0m \u001b[0mmin\u001b[0m\u001b[0;34m(\u001b[0m\u001b[0mself\u001b[0m\u001b[0;34m.\u001b[0m\u001b[0mfps\u001b[0m\u001b[0;34m)\u001b[0m\u001b[0;34m)\u001b[0m\u001b[0;34m\u001b[0m\u001b[0;34m\u001b[0m\u001b[0m\n\u001b[0m\u001b[1;32m    207\u001b[0m                 \u001b[0mx\u001b[0m \u001b[0;34m=\u001b[0m \u001b[0mself\u001b[0m\u001b[0;34m.\u001b[0m\u001b[0mimgs\u001b[0m\u001b[0;34m[\u001b[0m\u001b[0mi\u001b[0m\u001b[0;34m]\u001b[0m\u001b[0;34m\u001b[0m\u001b[0;34m\u001b[0m\u001b[0m\n\u001b[1;32m    208\u001b[0m                 \u001b[0;32mif\u001b[0m \u001b[0;32mnot\u001b[0m \u001b[0mx\u001b[0m\u001b[0;34m:\u001b[0m\u001b[0;34m\u001b[0m\u001b[0;34m\u001b[0m\u001b[0m\n",
            "\u001b[0;31mKeyboardInterrupt\u001b[0m: "
          ]
        }
      ]
    },
    {
      "cell_type": "markdown",
      "source": [
        "# 6. Tasks\n",
        "\n",
        "YOLO11 can train, val, predict and export models for the most common tasks in vision AI: [Detect](https://docs.ultralytics.com/tasks/detect/), [Segment](https://docs.ultralytics.com/tasks/segment/), [Classify](https://docs.ultralytics.com/tasks/classify/) and [Pose](https://docs.ultralytics.com/tasks/pose/). See [YOLO11 Tasks Docs](https://docs.ultralytics.com/tasks/) for more information.\n",
        "\n",
        "<br><img width=\"1024\" src=\"https://raw.githubusercontent.com/ultralytics/assets/main/im/banner-tasks.png\">\n"
      ],
      "metadata": {
        "id": "Phm9ccmOKye5"
      }
    },
    {
      "cell_type": "markdown",
      "source": [
        "## 1. Detection\n",
        "\n",
        "YOLO11 _detection_ models have no suffix and are the default YOLO11 models, i.e. `yolo11n.pt` and are pretrained on COCO. See [Detection Docs](https://docs.ultralytics.com/tasks/detect/) for full details.\n"
      ],
      "metadata": {
        "id": "yq26lwpYK1lq"
      }
    },
    {
      "cell_type": "code",
      "source": [
        "# Load YOLO11n, train it on COCO128 for 3 epochs and predict an image with it\n",
        "from ultralytics import YOLO\n",
        "\n",
        "model = YOLO('yolo11n.pt')  # load a pretrained YOLO detection model\n",
        "model.train(data='coco8.yaml', epochs=3)  # train the model\n",
        "model('https://ultralytics.com/images/bus.jpg')  # predict on an image"
      ],
      "metadata": {
        "id": "8Go5qqS9LbC5"
      },
      "execution_count": null,
      "outputs": []
    },
    {
      "cell_type": "markdown",
      "source": [
        "## 2. Segmentation\n",
        "\n",
        "YOLO11 _segmentation_ models use the `-seg` suffix, i.e. `yolo11n-seg.pt` and are pretrained on COCO. See [Segmentation Docs](https://docs.ultralytics.com/tasks/segment/) for full details.\n"
      ],
      "metadata": {
        "id": "7ZW58jUzK66B"
      }
    },
    {
      "cell_type": "code",
      "source": [
        "# Load YOLO11n-seg, train it on COCO128-seg for 3 epochs and predict an image with it\n",
        "from ultralytics import YOLO\n",
        "\n",
        "model = YOLO('yolo11n-seg.pt')  # load a pretrained YOLO segmentation model\n",
        "model.train(data='coco8-seg.yaml', epochs=3)  # train the model\n",
        "model('https://ultralytics.com/images/bus.jpg')  # predict on an image"
      ],
      "metadata": {
        "id": "WFPJIQl_L5HT"
      },
      "execution_count": null,
      "outputs": []
    },
    {
      "cell_type": "markdown",
      "source": [
        "## 3. Classification\n",
        "\n",
        "YOLO11 _classification_ models use the `-cls` suffix, i.e. `yolo11n-cls.pt` and are pretrained on ImageNet. See [Classification Docs](https://docs.ultralytics.com/tasks/classify/) for full details.\n"
      ],
      "metadata": {
        "id": "ax3p94VNK9zR"
      }
    },
    {
      "cell_type": "code",
      "source": [
        "# Load YOLO11n-cls, train it on mnist160 for 3 epochs and predict an image with it\n",
        "from ultralytics import YOLO\n",
        "\n",
        "model = YOLO('yolo11n-cls.pt')  # load a pretrained YOLO classification model\n",
        "model.train(data='mnist160', epochs=3)  # train the model\n",
        "model('https://ultralytics.com/images/bus.jpg')  # predict on an image"
      ],
      "metadata": {
        "id": "5q9Zu6zlL5rS"
      },
      "execution_count": null,
      "outputs": []
    },
    {
      "cell_type": "markdown",
      "source": [
        "## 4. Pose\n",
        "\n",
        "YOLO11 _pose_ models use the `-pose` suffix, i.e. `yolo11n-pose.pt` and are pretrained on COCO Keypoints. See [Pose Docs](https://docs.ultralytics.com/tasks/pose/) for full details."
      ],
      "metadata": {
        "id": "SpIaFLiO11TG"
      }
    },
    {
      "cell_type": "code",
      "source": [
        "# Load YOLO11n-pose, train it on COCO8-pose for 3 epochs and predict an image with it\n",
        "from ultralytics import YOLO\n",
        "\n",
        "model = YOLO('yolo11n-pose.pt')  # load a pretrained YOLO pose model\n",
        "model.train(data='coco8-pose.yaml', epochs=3)  # train the model\n",
        "model('https://ultralytics.com/images/bus.jpg')  # predict on an image"
      ],
      "metadata": {
        "id": "si4aKFNg19vX"
      },
      "execution_count": null,
      "outputs": []
    },
    {
      "cell_type": "markdown",
      "source": [
        "## 4. Oriented Bounding Boxes (OBB)\n",
        "\n",
        "YOLO11 _OBB_ models use the `-obb` suffix, i.e. `yolo11n-obb.pt` and are pretrained on the DOTA dataset. See [OBB Docs](https://docs.ultralytics.com/tasks/obb/) for full details."
      ],
      "metadata": {
        "id": "cf5j_T9-B5F0"
      }
    },
    {
      "cell_type": "code",
      "source": [
        "# Load YOLO11n-obb, train it on DOTA8 for 3 epochs and predict an image with it\n",
        "from ultralytics import YOLO\n",
        "\n",
        "model = YOLO('yolo11n-obb.pt')  # load a pretrained YOLO OBB model\n",
        "model.train(data='dota8.yaml', epochs=3)  # train the model\n",
        "model('https://ultralytics.com/images/boats.jpg')  # predict on an image"
      ],
      "metadata": {
        "id": "IJNKClOOB5YS"
      },
      "execution_count": null,
      "outputs": []
    },
    {
      "cell_type": "markdown",
      "metadata": {
        "id": "IEijrePND_2I"
      },
      "source": [
        "# Appendix\n",
        "\n",
        "Additional content below."
      ]
    },
    {
      "cell_type": "code",
      "source": [
        "# Pip install from source\n",
        "!uv pip install git+https://github.com/ultralytics/ultralytics@main"
      ],
      "metadata": {
        "id": "pIdE6i8C3LYp"
      },
      "execution_count": null,
      "outputs": []
    },
    {
      "cell_type": "code",
      "source": [
        "# Git clone and run tests on 'main' branch\n",
        "!git clone https://github.com/ultralytics/ultralytics -b main\n",
        "!uv pip install -qe ultralytics"
      ],
      "metadata": {
        "id": "uRKlwxSJdhd1"
      },
      "execution_count": null,
      "outputs": []
    },
    {
      "cell_type": "code",
      "source": [
        "# Run tests (Git clone only)\n",
        "!pytest ultralytics/tests"
      ],
      "metadata": {
        "id": "GtPlh7mcCGZX"
      },
      "execution_count": null,
      "outputs": []
    },
    {
      "cell_type": "code",
      "source": [
        "# Validate multiple models\n",
        "for x in 'nsmlx':\n",
        "  !yolo val model=yolo11{x}.pt data=coco.yaml"
      ],
      "metadata": {
        "id": "Wdc6t_bfzDDk"
      },
      "execution_count": null,
      "outputs": []
    }
  ]
}